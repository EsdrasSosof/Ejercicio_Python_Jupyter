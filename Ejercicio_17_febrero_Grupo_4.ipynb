{
 "cells": [
  {
   "cell_type": "code",
   "execution_count": 6,
   "metadata": {},
   "outputs": [
    {
     "name": "stdout",
     "output_type": "stream",
     "text": [
      "Hola a todos\n"
     ]
    }
   ],
   "source": [
    "a=\"Hola a todos\"\n",
    "print(a)"
   ]
  },
  {
   "cell_type": "code",
   "execution_count": 7,
   "metadata": {},
   "outputs": [
    {
     "name": "stdout",
     "output_type": "stream",
     "text": [
      "\"Hola\n",
      "cómo están\n"
     ]
    }
   ],
   "source": [
    "a=\"\"\"\"Hola\n",
    "cómo están\"\"\"\n",
    "print(a)"
   ]
  },
  {
   "cell_type": "markdown",
   "metadata": {},
   "source": [
    "Variables"
   ]
  },
  {
   "cell_type": "code",
   "execution_count": 8,
   "metadata": {},
   "outputs": [],
   "source": [
    "numero=4\n",
    "miString=\"Hola\" #Esto es un comentario\n",
    "miBool = True"
   ]
  },
  {
   "cell_type": "code",
   "execution_count": 9,
   "metadata": {},
   "outputs": [
    {
     "name": "stdout",
     "output_type": "stream",
     "text": [
      "Hola a todos, mi edad es:  25\n"
     ]
    }
   ],
   "source": [
    "edad=25\n",
    "print(\"Hola a todos, mi edad es: \", edad)"
   ]
  },
  {
   "cell_type": "code",
   "execution_count": 11,
   "metadata": {},
   "outputs": [
    {
     "name": "stdout",
     "output_type": "stream",
     "text": [
      "Hola a todos, mi nombre es Esdras y mi edad es 25\n"
     ]
    }
   ],
   "source": [
    "nombre = \"Esdras\"\n",
    "print(f\"Hola a todos, mi nombre es {nombre} y mi edad es {edad}\")"
   ]
  },
  {
   "cell_type": "code",
   "execution_count": 13,
   "metadata": {},
   "outputs": [
    {
     "name": "stdout",
     "output_type": "stream",
     "text": [
      "SELECT *\n",
      "FROM empleado\n",
      "WHERE salario >= 25000\n",
      "AND estado = finanzas\n"
     ]
    }
   ],
   "source": [
    "salario = 25000\n",
    "departamento = \"finanzas\"\n",
    "miQuery = \"\"\"SELECT *\n",
    "FROM empleado\n",
    "WHERE salario >= {}\n",
    "AND estado = {}\"\"\".format(salario,departamento)\n",
    "\n",
    "print(miQuery)"
   ]
  },
  {
   "cell_type": "code",
   "execution_count": 14,
   "metadata": {},
   "outputs": [
    {
     "name": "stdout",
     "output_type": "stream",
     "text": [
      "Hola, Esdras, esto es Python\n"
     ]
    }
   ],
   "source": [
    "nombre = input(\"Ingrese su nombre:\")\n",
    "print(f\"Hola, {nombre}, esto es Python\")"
   ]
  },
  {
   "cell_type": "markdown",
   "metadata": {},
   "source": [
    "Strings"
   ]
  },
  {
   "cell_type": "code",
   "execution_count": 18,
   "metadata": {},
   "outputs": [
    {
     "data": {
      "text/plain": [
       "12"
      ]
     },
     "execution_count": 18,
     "metadata": {},
     "output_type": "execute_result"
    }
   ],
   "source": [
    "a = \"Esdras Sosof\"\n",
    "a[0:6]\n",
    "len(a)"
   ]
  },
  {
   "cell_type": "markdown",
   "metadata": {},
   "source": [
    "Control de Flujo"
   ]
  },
  {
   "cell_type": "code",
   "execution_count": 20,
   "metadata": {},
   "outputs": [
    {
     "data": {
      "text/plain": [
       "True"
      ]
     },
     "execution_count": 20,
     "metadata": {},
     "output_type": "execute_result"
    }
   ],
   "source": [
    "43==34\n",
    "43==43"
   ]
  },
  {
   "cell_type": "code",
   "execution_count": 21,
   "metadata": {},
   "outputs": [
    {
     "name": "stdout",
     "output_type": "stream",
     "text": [
      "El número no es cero\n"
     ]
    }
   ],
   "source": [
    "numero = int(input(\"Ingrese un número:\"))\n",
    "if(numero != 0):\n",
    "    print(\"El número no es cero\")\n",
    "else:\n",
    "    print(\"El número es cero\")"
   ]
  },
  {
   "cell_type": "code",
   "execution_count": 22,
   "metadata": {},
   "outputs": [
    {
     "name": "stdout",
     "output_type": "stream",
     "text": [
      "El día es viernes\n"
     ]
    }
   ],
   "source": [
    "dia = int(input(\"Ingrese el número de día: \"))\n",
    "if(dia >=1 and dia <=7):\n",
    "    if(dia == 1):\n",
    "        print(\"El día es lunes\")\n",
    "    elif(dia == 2):\n",
    "        print(\"El día es martes\")\n",
    "    elif(dia == 2):\n",
    "        print(\"El día es martes\")\n",
    "    elif(dia == 3):\n",
    "        print(\"El día es miércoles\")\n",
    "    elif(dia == 4):\n",
    "        print(\"El día es jueves\")\n",
    "    elif(dia == 5):\n",
    "        print(\"El día es viernes\")\n",
    "    elif(dia == 6):\n",
    "        print(\"El día es sábado\")\n",
    "    elif(dia == 7):\n",
    "        print(\"El día es domingo\")\n",
    "else:\n",
    "    print(\"No es día\")"
   ]
  },
  {
   "cell_type": "markdown",
   "metadata": {},
   "source": [
    "Listas"
   ]
  },
  {
   "cell_type": "code",
   "execution_count": 23,
   "metadata": {},
   "outputs": [],
   "source": [
    "lista = [10,20,30,40,50,60]\n",
    "#1 Es dinánimca\n",
    "#2 Almacena diferentes tipos de datos"
   ]
  },
  {
   "cell_type": "code",
   "execution_count": 24,
   "metadata": {},
   "outputs": [
    {
     "data": {
      "text/plain": [
       "6"
      ]
     },
     "execution_count": 24,
     "metadata": {},
     "output_type": "execute_result"
    }
   ],
   "source": [
    "lista [4]\n",
    "lista[4:]\n",
    "len(lista)"
   ]
  },
  {
   "cell_type": "code",
   "execution_count": 25,
   "metadata": {},
   "outputs": [],
   "source": [
    "lista.append('Data')"
   ]
  },
  {
   "cell_type": "code",
   "execution_count": 26,
   "metadata": {},
   "outputs": [],
   "source": [
    "lista.insert(3,'UMG')"
   ]
  },
  {
   "cell_type": "code",
   "execution_count": 27,
   "metadata": {},
   "outputs": [
    {
     "data": {
      "text/plain": [
       "[10, 20, 30, 'UMG', 40, 50, 60, 'Data']"
      ]
     },
     "execution_count": 27,
     "metadata": {},
     "output_type": "execute_result"
    }
   ],
   "source": [
    "lista"
   ]
  },
  {
   "cell_type": "markdown",
   "metadata": {},
   "source": [
    "###Eliminar elementos de una lista"
   ]
  },
  {
   "cell_type": "code",
   "execution_count": 28,
   "metadata": {},
   "outputs": [],
   "source": [
    "del lista [3]#Eliminar por posición"
   ]
  },
  {
   "cell_type": "code",
   "execution_count": 29,
   "metadata": {},
   "outputs": [],
   "source": [
    "lista.remove('Data')#Eliminar po valor"
   ]
  },
  {
   "cell_type": "code",
   "execution_count": 30,
   "metadata": {},
   "outputs": [
    {
     "name": "stdout",
     "output_type": "stream",
     "text": [
      "Horas: 0 - Minutos: 2 - Segundos: 150\n"
     ]
    }
   ],
   "source": [
    "segundos = int(input(\"Ingrese los segundos\"))\n",
    "\n",
    "Horas = segundos // (60*60)\n",
    "Segundos = segundos % (60*60)\n",
    "Minutos = segundos // (60)\n",
    "Segundos = segundos % (60*60)\n",
    "\n",
    "print('Horas: {} - Minutos: {} - Segundos: {}'.format(Horas,Minutos,segundos))"
   ]
  },
  {
   "cell_type": "code",
   "execution_count": 31,
   "metadata": {},
   "outputs": [
    {
     "name": "stdout",
     "output_type": "stream",
     "text": [
      "Tienes  28 años -10 meses y -4 días\n"
     ]
    }
   ],
   "source": [
    "from datetime import datetime\n",
    "\n",
    "dia = int(input(\"Introduce el día actual\"))\n",
    "mes = int(input(\"Introduce el mes actual\"))\n",
    "anio = int((input(\"Introduce el año actual\")))\n",
    "\n",
    "dia_aniversario = int((input(\"Introduce el día de tu nacimiento\")))\n",
    "mes_aniversario = int((input(\"Introduce el mes de tu nacimiento\")))\n",
    "anio_aniversario = int((input(\"Introduce el año de tu nacimiento\")))\n",
    "\n",
    "resultado_dia = dia - dia_aniversario\n",
    "resultado_mes = mes - mes_aniversario\n",
    "resultado_anio = anio - anio_aniversario\n",
    "\n",
    "print(\"Tienes \", resultado_anio, \"años\", resultado_mes, \"meses\", \"y\", resultado_dia, \"días\")"
   ]
  },
  {
   "cell_type": "markdown",
   "metadata": {},
   "source": [
    "#####Comentarios Grupo 4"
   ]
  },
  {
   "cell_type": "markdown",
   "metadata": {},
   "source": [
    "###Análisis y conclusión: Victor Patzán 1593-17-1080\n",
    "\n",
    "Anaconda es una distribución de Python que incluye principalmente una amplia gama de biblioteca y herramientas que facilitan el análisis de datos, Python es una herramienta robusta, en el que se pueden realizar operaciones básicas y complejas, así mismo el uso de variables, listas y vectores, control de flujo y cadenas las cuales se pueden editar, agregar y eliminar, este tipo de operaciones hace que sea muy dinámico y accesible. Como lo vimos en los ejemplos anteriores que se realizaron en la clase, Por supuesto no olvidando el editor de código Visual Studio Code ya que es un editor de código muy completo, rápido y ágil, esto hace que sea mucho más fácil de codificar y programar en el lenguaje de programación Python y en muchos otros lenguajes de programación. En conclusión, Python es muy interesante por su sintaxis ya que es de forma clara y sencilla desde operaciones básicas hasta análisis de datos y desarrollo de aplicaciones y sistemas, al incluir bibliotecas y herramientas que facilitan el uso del mismo, lo hacen una plataforma muy sólida y completa para satisfacer las necesidades de los usuarios, así que recomiendo totalmente esta herramienta por su fácil manipulación. "
   ]
  },
  {
   "cell_type": "markdown",
   "metadata": {},
   "source": [
    "###Análisis de Python José Abel Méndez 1593-16-2553\n",
    "\n",
    "Las herramientas vistas en clase, contienen herramientas muy potentes, las cuales, con la ayuda de conceptos de programación, se puede combinar con la rama de las estadísticas, para poder resolver problemas, Python es usa una programación simple, de entender lo cuales hace la posible combinación de estas herramientas. Con los ejemplos vistos en clase podemos comprender la lógica."
   ]
  },
  {
   "cell_type": "markdown",
   "metadata": {},
   "source": [
    "###ABNER CULAJAY  1593-06-1869\n",
    "\n",
    "Análisis: En este ejercicio tuvimos la oportunidad de combinar Anaconda Navigator, con Python y utilizando la aplicación de Jupyter todo esto a través de Visual Studio Code, esto nos permite juntar herramientas muy potentes para el análisis de datos. Con Anaconda pudimos realizar el ejercicio de gestionar fácilmente los paquetes de al instalar Jupyter y Python. La herramienta de Jupyter nos ayuda en tener una interfaz más interactiva y al utilizar Phyton aprendimos que es un lenguaje de programación versátil y a la vez poderoso que actualmente se utiliza para el análisis de datos. Y para realizar el ejercicio unimos estas herramientas con el editor de código Visual Studio Code dando una ventaja de integrar estas herramientas para escribir, ejecutar y depurar código. Y tal vez una de sus desventajas que observé en combinar estas aplicaciones es el consumo de recurso y también la configuración de las aplicaciones puede consumir un poco de tiempo.      "
   ]
  },
  {
   "cell_type": "markdown",
   "metadata": {},
   "source": [
    "###Esdras Sosof 1593-19-3492\n",
    "\n",
    "Python es un lenguaje de programación bastante potente, con este lenguaje se tiene la capacidad de realizar desde cosas muy básicas hasta operaciones y procesos complejos. Por si solo, Python, es una gran herramienta, sin embargo hacer uso de este junto a otras herramientas lo hace aún más potente. En este caso, unificar Python y Jupyter, nos permite realizar diversas operaciones enfocadas al análisis, procesamiento y manipulación de información para llegar a tener un resultado mejor pulido para su entendimiento y comprensión.\n",
    "\n",
    "Sin embargo, como lo he comentado en otras ocasiones, el no contar con el conocimiento necesario hace a las herramientas obsoletas y poco funcionales, por ello se requiere que la persona que utiliza dichas herramientas tenga el conocimiento adecuado para dar un buen uso de estas.\n",
    "\n",
    "Para concluir, el uso tanto de Python como de Jupyter, es un gran beneficio y aporta mucho no solo a nivel estudiantil sino que también a nivel laboral. Por ello se debe sacar el máximo provecho para así aumentar nuestro conocimiento y proyectarnos como un mejor profesional."
   ]
  },
  {
   "cell_type": "markdown",
   "metadata": {},
   "source": [
    "###Conclusión Erick Sebaquijay - 1593-15-21835\n",
    "\n",
    "Realizando los diferentes ejercicios en jupyter y anaconda con Python, vemos que es un herramienta muy eficaz respecto a los diferentes procesos que podemos llevar a cabo en algún proyecto, enno personal había usado estás herramientas pero sin Visual Code, tienen diferencia con el uso pero al final se cumple el objetivo, que es procesar la información con el lenguaje de Python y desarrollar y proporcionar información de cierto fragmento de código"
   ]
  }
 ],
 "metadata": {
  "kernelspec": {
   "display_name": "Ejercicio17febrero",
   "language": "python",
   "name": "python3"
  },
  "language_info": {
   "codemirror_mode": {
    "name": "ipython",
    "version": 3
   },
   "file_extension": ".py",
   "mimetype": "text/x-python",
   "name": "python",
   "nbconvert_exporter": "python",
   "pygments_lexer": "ipython3",
   "version": "3.8.18"
  }
 },
 "nbformat": 4,
 "nbformat_minor": 2
}
